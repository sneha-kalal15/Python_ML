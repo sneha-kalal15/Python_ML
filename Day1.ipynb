{
  "nbformat": 4,
  "nbformat_minor": 0,
  "metadata": {
    "colab": {
      "provenance": []
    },
    "kernelspec": {
      "name": "python3",
      "display_name": "Python 3"
    },
    "language_info": {
      "name": "python"
    }
  },
  "cells": [
    {
      "cell_type": "code",
      "execution_count": null,
      "metadata": {
        "colab": {
          "base_uri": "https://localhost:8080/"
        },
        "id": "oMsOUCJyx8ln",
        "outputId": "07f39245-420c-4bac-aef7-17ddea54354e"
      },
      "outputs": [
        {
          "output_type": "stream",
          "name": "stdout",
          "text": [
            "hello\n"
          ]
        }
      ],
      "source": [
        "print(\"hello\")"
      ]
    },
    {
      "cell_type": "markdown",
      "source": [
        "case-sensitive\n"
      ],
      "metadata": {
        "id": "dnuZPsjA6xdR"
      }
    },
    {
      "cell_type": "code",
      "source": [
        "Name = \"sneha\"\n",
        "name = \"aishu\"\n",
        "print(Name,name)"
      ],
      "metadata": {
        "colab": {
          "base_uri": "https://localhost:8080/"
        },
        "id": "WRMxTLcw7d9q",
        "outputId": "e6049b75-2eaf-4afd-dcd6-23f02c06f79f"
      },
      "execution_count": null,
      "outputs": [
        {
          "output_type": "stream",
          "name": "stdout",
          "text": [
            "sneha aishu\n"
          ]
        }
      ]
    },
    {
      "cell_type": "markdown",
      "source": [
        "indentation matters"
      ],
      "metadata": {
        "id": "wcv-kNW774oA"
      }
    },
    {
      "cell_type": "code",
      "source": [
        "x=2\n",
        "if x > 0:\n",
        "  print(\"x is positive\")\n",
        "  print(\"this is a inside the if block\")\n",
        "\n"
      ],
      "metadata": {
        "colab": {
          "base_uri": "https://localhost:8080/"
        },
        "id": "Oph7bLwz98xb",
        "outputId": "24d5fc0c-4c20-4732-bdb2-75f4de44bc99"
      },
      "execution_count": null,
      "outputs": [
        {
          "output_type": "stream",
          "name": "stdout",
          "text": [
            "x is positive\n",
            "this is a inside the if block\n"
          ]
        }
      ]
    },
    {
      "cell_type": "markdown",
      "source": [
        "Variable & Data types"
      ],
      "metadata": {
        "id": "jwa1XT4N-qjl"
      }
    },
    {
      "cell_type": "markdown",
      "source": [
        "Numeric types"
      ],
      "metadata": {
        "id": "J-yFGBct_Yqp"
      }
    },
    {
      "cell_type": "code",
      "source": [
        "age = 22 # int\n",
        "height = 5.9 # float\n",
        "complex_num = 3 + 4j # complex\n"
      ],
      "metadata": {
        "id": "Myoa62nH_laY"
      },
      "execution_count": null,
      "outputs": []
    },
    {
      "cell_type": "markdown",
      "source": [
        "String type"
      ],
      "metadata": {
        "id": "M8Okt5kZ_7gS"
      }
    },
    {
      "cell_type": "code",
      "source": [
        "name = \"aishu\"\n",
        "message = 'hello world'\n",
        "MUltiline = \"\"\"this is\n",
        " multiline string\"\"\""
      ],
      "metadata": {
        "id": "bAb9b-P0AEkq"
      },
      "execution_count": null,
      "outputs": []
    },
    {
      "cell_type": "markdown",
      "source": [
        "Boolean type"
      ],
      "metadata": {
        "id": "j9NG2UGIBdVW"
      }
    },
    {
      "cell_type": "code",
      "source": [
        "is_active = True\n",
        "is_finished = False"
      ],
      "metadata": {
        "id": "SnE_OGizBpWB"
      },
      "execution_count": null,
      "outputs": []
    },
    {
      "cell_type": "markdown",
      "source": [
        "Type checking"
      ],
      "metadata": {
        "id": "dlfadBSxByQH"
      }
    },
    {
      "cell_type": "code",
      "source": [
        "print(type(age))\n",
        "print(type(height))\n",
        "print(type(name))"
      ],
      "metadata": {
        "colab": {
          "base_uri": "https://localhost:8080/"
        },
        "id": "FUpBmqx8B7Fx",
        "outputId": "845fa6b7-38d3-4a4d-ca94-410491c779bf"
      },
      "execution_count": null,
      "outputs": [
        {
          "output_type": "stream",
          "name": "stdout",
          "text": [
            "<class 'int'>\n",
            "<class 'float'>\n",
            "<class 'str'>\n"
          ]
        }
      ]
    },
    {
      "cell_type": "markdown",
      "source": [
        "Type conversion\n"
      ],
      "metadata": {
        "id": "HH64ZwLFCPKi"
      }
    },
    {
      "cell_type": "code",
      "source": [
        "str_number = \"123\"\n",
        "int_number = int(str_number)\n",
        "float_number = float(str_number)\n",
        "\n",
        "print(f\"Original: {str_number} (type: {type(str_number)})\")\n",
        "print(f\"Integer: {int_number} (type: {type(int_number)})\")\n",
        "print(f\"Float: {float_number} (type: {type(float_number)})\")\n"
      ],
      "metadata": {
        "colab": {
          "base_uri": "https://localhost:8080/"
        },
        "id": "tMIwQ_KFCWCQ",
        "outputId": "45726196-f5fa-45d8-c3f5-e6823f60ecdd"
      },
      "execution_count": null,
      "outputs": [
        {
          "output_type": "stream",
          "name": "stdout",
          "text": [
            "Original: 123 (type: <class 'str'>)\n",
            "Integer: 123 (type: <class 'int'>)\n",
            "Float: 123.0 (type: <class 'float'>)\n"
          ]
        }
      ]
    },
    {
      "cell_type": "markdown",
      "source": [
        "Create variables for personal information"
      ],
      "metadata": {
        "id": "sg9Vsx7hIifN"
      }
    },
    {
      "cell_type": "code",
      "source": [
        "first_name = \"your first Name\"\n",
        "last_name = \"your last Name\"\n",
        "age = 28\n",
        "height = 5.7\n",
        "is_student = True"
      ],
      "metadata": {
        "id": "Flqf1stLIz1W"
      },
      "execution_count": null,
      "outputs": []
    },
    {
      "cell_type": "markdown",
      "source": [
        "Print formatted information\n"
      ],
      "metadata": {
        "id": "ZdpEAqwWJilj"
      }
    },
    {
      "cell_type": "code",
      "source": [
        "print(f\"Name: {first_name} {last_name}\")\n",
        "print(f\"Age: {age}\")\n",
        "print(f\"Height: {height} feet\")\n",
        "print(f\"Student: {is_student}\")\n"
      ],
      "metadata": {
        "colab": {
          "base_uri": "https://localhost:8080/"
        },
        "id": "LJRi5L7YJkGQ",
        "outputId": "3e064b46-9622-47ff-e22d-f27e79805d41"
      },
      "execution_count": null,
      "outputs": [
        {
          "output_type": "stream",
          "name": "stdout",
          "text": [
            "Name: your first name your last name\n",
            "Age: 28\n",
            "Height: 5.7 feet\n",
            "Student: True\n"
          ]
        }
      ]
    },
    {
      "cell_type": "markdown",
      "source": [
        "operators & basic operations"
      ],
      "metadata": {
        "id": "z0iL5sElKui2"
      }
    },
    {
      "cell_type": "markdown",
      "source": [
        "Arithmetic operators"
      ],
      "metadata": {
        "id": "_u7VUA4aLE9M"
      }
    },
    {
      "cell_type": "code",
      "source": [
        "a = 10\n",
        "b = 20\n",
        "print(f\"Addition: {a} + {b} = {a + b}\")\n",
        "print(f\"subtraction: {a} - {b} = {a - b}\")\n",
        "print(f\"multiplication: {a} * {b} = {a * b}\")\n",
        "print(f\"division: {a} / {b} = {a / b}\")\n",
        "print(f\"modulos: {a} % {b} = {a % b}\")\n",
        "print(f\"Exponentiation: {a} ** {b} = {a ** b}\")"
      ],
      "metadata": {
        "colab": {
          "base_uri": "https://localhost:8080/"
        },
        "id": "lggLmedULTn2",
        "outputId": "4ed034ec-fa7f-469a-882d-f7f604cbf2b5"
      },
      "execution_count": null,
      "outputs": [
        {
          "output_type": "stream",
          "name": "stdout",
          "text": [
            "Addition: 10 + 20 = 30\n",
            "subtraction: 10 - 20 = -10\n",
            "multiplication: 10 * 20 = 200\n",
            "division: 10 / 20 = 0.5\n",
            "modulos: 10 % 20 = 10\n",
            "Exponentiation: 10 ** 20 = 100000000000000000000\n"
          ]
        }
      ]
    },
    {
      "cell_type": "markdown",
      "source": [
        "Relational Operators (or) Comparison"
      ],
      "metadata": {
        "id": "cORuIKr1MaJ3"
      }
    },
    {
      "cell_type": "code",
      "source": [
        "\n",
        "x = 5\n",
        "y = 10\n",
        "\n",
        "print(f\"{x} == {y}: {x == y}\")\n",
        "print(f\"{x} != {y}: {x != y}\")\n",
        "print(f\"{x} < {y}: {x < y}\")\n",
        "print(f\"{x} > {y}: {x > y}\")\n",
        "print(f\"{x} <= {y}: {x <= y}\")\n",
        "print(f\"{x} >= {y}: {x >= y}\")\n"
      ],
      "metadata": {
        "colab": {
          "base_uri": "https://localhost:8080/"
        },
        "id": "B45EWEIFMfpz",
        "outputId": "0d2b8a80-7bed-4c7e-d93d-ff8af7839270"
      },
      "execution_count": null,
      "outputs": [
        {
          "output_type": "stream",
          "name": "stdout",
          "text": [
            "5 == 10: False\n",
            "5 != 10: True\n",
            "5 < 10: True\n",
            "5 > 10: False\n",
            "5 <= 10: True\n",
            "5 >= 10: False\n"
          ]
        }
      ]
    },
    {
      "cell_type": "markdown",
      "source": [
        "string comparison"
      ],
      "metadata": {
        "id": "eTmRqXw9M8Mg"
      }
    },
    {
      "cell_type": "code",
      "source": [
        "name1 = \"Sneha\"\n",
        "name2 = \"Diya\"\n",
        "print(f\"'{name1}' > '{name2}': {name1 < name2}\")"
      ],
      "metadata": {
        "colab": {
          "base_uri": "https://localhost:8080/"
        },
        "id": "8YLN-tQzNaAx",
        "outputId": "8b6e7e5c-93ce-4baa-917e-b83e98fa593d"
      },
      "execution_count": null,
      "outputs": [
        {
          "output_type": "stream",
          "name": "stdout",
          "text": [
            "'Sneha' > 'Diya': False\n"
          ]
        }
      ]
    },
    {
      "cell_type": "markdown",
      "source": [
        "Logical operators"
      ],
      "metadata": {
        "id": "nhfUHqJpN2Ku"
      }
    },
    {
      "cell_type": "code",
      "source": [
        "p = True\n",
        "q = False\n",
        "\n",
        "print(f\"p and q: {p and q}\")\n",
        "print(f\"p or q: {p or q}\")\n",
        "print(f\"not p: {not p}\")"
      ],
      "metadata": {
        "colab": {
          "base_uri": "https://localhost:8080/"
        },
        "id": "YVBq4uVvN7wc",
        "outputId": "34889faa-7e0e-44f3-b218-68f59a6462e2"
      },
      "execution_count": null,
      "outputs": [
        {
          "output_type": "stream",
          "name": "stdout",
          "text": [
            "p and q: False\n",
            "p or q: True\n",
            "not p: False\n"
          ]
        }
      ]
    },
    {
      "cell_type": "code",
      "source": [
        "# Personal information\n",
        "age = 25\n",
        "annual_income = 50000\n",
        "credit_score = 720\n",
        "has_collateral = True\n"
      ],
      "metadata": {
        "id": "s8kg40VePZDf"
      },
      "execution_count": null,
      "outputs": []
    },
    {
      "cell_type": "code",
      "source": [
        "# Loan criteria\n",
        "min_age = 18\n",
        "min_income = 30000\n",
        "min_credit_score = 650"
      ],
      "metadata": {
        "id": "GcWlz1fwP1Sb"
      },
      "execution_count": null,
      "outputs": []
    },
    {
      "cell_type": "code",
      "source": [
        "# Check qualifications\n",
        "age_qualified = age >= min_age\n",
        "income_qualified = annual_income >= min_income\n",
        "credit_qualified = credit_score >= min_credit_score\n",
        "overall_qualified = age_qualified and income_qualified and credit_qualified"
      ],
      "metadata": {
        "id": "w6AfEJuCQrgf"
      },
      "execution_count": null,
      "outputs": []
    },
    {
      "cell_type": "code",
      "source": [
        "print(\"=== Loan Qualification Check ===\")\n",
        "print(f\"Age: {age} (Required: {min_age}) - {'Yes' if age_qualified else 'No'}\")\n",
        "print(f\"Income: ${annual_income} (Required: ${min_income}) - {'Yes' if income_qualified else 'No'}\")\n",
        "print(f\"Credit Score: {credit_score} (Required: {min_credit_score}) - {'Yes' if credit_qualified else 'No'}\")\n",
        "print(f\"Has Collateral: {'Yes' if has_collateral else 'No'}\")\n",
        "print(f\"\\nOverall Qualification: {'QUALIFIED' if overall_qualified else 'NOT QUALIFIED'}\")"
      ],
      "metadata": {
        "colab": {
          "base_uri": "https://localhost:8080/"
        },
        "id": "-dLwS1uLQygn",
        "outputId": "cbedf47e-948e-422e-bec4-9f4fe62de549"
      },
      "execution_count": null,
      "outputs": [
        {
          "output_type": "stream",
          "name": "stdout",
          "text": [
            "=== Loan Qualification Check ===\n",
            "Age: 25 (Required: 18) - Yes\n",
            "Income: $50000 (Required: $30000) - Yes\n",
            "Credit Score: 720 (Required: 650) - Yes\n",
            "Has Collateral: Yes\n",
            "\n",
            "Overall Qualification: QUALIFIED\n"
          ]
        }
      ]
    },
    {
      "cell_type": "markdown",
      "source": [
        "Lists\n"
      ],
      "metadata": {
        "id": "L2uBJwCkjvqA"
      }
    },
    {
      "cell_type": "markdown",
      "source": [
        "Creating lists\n"
      ],
      "metadata": {
        "id": "s-fgMYTWjyRV"
      }
    },
    {
      "cell_type": "code",
      "source": [
        "fruits = [\"apple\", \"banana\", \"orange\", \"grape\"]\n",
        "numbers = [10, 20, 30, 40, 50]\n",
        "mixed_data = [1, \"Hello\", 3.14, True]\n"
      ],
      "metadata": {
        "id": "J3_uzisIj2tz"
      },
      "execution_count": null,
      "outputs": []
    },
    {
      "cell_type": "markdown",
      "source": [
        "List indexing(0-based)"
      ],
      "metadata": {
        "id": "EJ0-1ZnpoxJT"
      }
    },
    {
      "cell_type": "code",
      "source": [
        "print(f\"First fruits:{fruits[0]}\")\n",
        "print(f\"last fruits:{fruits[-1]}\")\n",
        "print(f\"second to last:{fruits[-2]}\")"
      ],
      "metadata": {
        "colab": {
          "base_uri": "https://localhost:8080/"
        },
        "id": "kpD1X6w3o41U",
        "outputId": "bc459ff6-8397-4d5b-b1e8-41851e019127"
      },
      "execution_count": null,
      "outputs": [
        {
          "output_type": "stream",
          "name": "stdout",
          "text": [
            "First fruits:apple\n",
            "last fruits:grape\n",
            "second to last:orange\n"
          ]
        }
      ]
    },
    {
      "cell_type": "markdown",
      "source": [
        "List slicing"
      ],
      "metadata": {
        "id": "hJuzd6bapmC-"
      }
    },
    {
      "cell_type": "code",
      "source": [
        "print(f\"First 2 fruits: {fruits[0:2]}\")\n",
        "print(f\"Last 2 fruits: {fruits[-2:]}\")\n",
        "print(f\"All except first: {fruits[1:]}\")\n"
      ],
      "metadata": {
        "colab": {
          "base_uri": "https://localhost:8080/"
        },
        "id": "DT45-zXspp5H",
        "outputId": "f3eab73a-a58e-4837-f936-5e3a0c95a46d"
      },
      "execution_count": null,
      "outputs": [
        {
          "output_type": "stream",
          "name": "stdout",
          "text": [
            "First 2 fruits: ['apple', 'banana']\n",
            "Last 2 fruits: ['orange', 'grape']\n",
            "All except first: ['banana', 'orange', 'grape']\n"
          ]
        }
      ]
    },
    {
      "cell_type": "markdown",
      "source": [
        "List methods\n"
      ],
      "metadata": {
        "id": "R95ST5JL0Vt8"
      }
    },
    {
      "cell_type": "code",
      "source": [
        "fruits.append(\"kiwi\")\n",
        "fruits.insert(1, \"pinapple\")\n",
        "remove = fruits.pop()\n",
        "print(f\"update list:{fruits}\")\n",
        "print(f\"removed:{remove}\")"
      ],
      "metadata": {
        "colab": {
          "base_uri": "https://localhost:8080/"
        },
        "id": "W5bbWqKA0cUO",
        "outputId": "db36e0fb-c6f0-4209-a815-593717d30811"
      },
      "execution_count": null,
      "outputs": [
        {
          "output_type": "stream",
          "name": "stdout",
          "text": [
            "update list:['apple', 'pinapple', 'banana', 'orange', 'grape']\n",
            "removed:kiwi\n"
          ]
        }
      ]
    },
    {
      "cell_type": "markdown",
      "source": [
        "List operations"
      ],
      "metadata": {
        "id": "2gDKKeKu1xSz"
      }
    },
    {
      "cell_type": "code",
      "source": [
        "print(f\"length: {len(fruits)}\")\n",
        "print(f\"contains 'apple:{'apple' in fruits}\")\n",
        "print(f\"Index of 'banana': {fruits.index('banana')}\")\n"
      ],
      "metadata": {
        "colab": {
          "base_uri": "https://localhost:8080/"
        },
        "id": "HtcIyTy_103q",
        "outputId": "0b5603cd-7faf-44d8-b659-22f5c199a4cd"
      },
      "execution_count": null,
      "outputs": [
        {
          "output_type": "stream",
          "name": "stdout",
          "text": [
            "length: 5\n",
            "contains 'apple:True\n",
            "Index of 'banana': 2\n"
          ]
        }
      ]
    },
    {
      "cell_type": "markdown",
      "source": [
        "Tuple are immutable\n"
      ],
      "metadata": {
        "id": "-8U4XO_D3oGZ"
      }
    },
    {
      "cell_type": "code",
      "source": [
        "coordinates = (10, 20)\n",
        "rgb_color = (255, 128, 0)\n",
        "person_info = (\"Alice\", 25, \"Engineer\", True)\n"
      ],
      "metadata": {
        "id": "3g-VWjbv3uek"
      },
      "execution_count": null,
      "outputs": []
    },
    {
      "cell_type": "markdown",
      "source": [
        "Tuple unpacking"
      ],
      "metadata": {
        "id": "Bn8FSgLT32T2"
      }
    },
    {
      "cell_type": "code",
      "source": [
        "x, y = coordinates\n",
        "print(f\"X: {x}, Y: {y}\")\n"
      ],
      "metadata": {
        "colab": {
          "base_uri": "https://localhost:8080/"
        },
        "id": "bezM35vs37Dg",
        "outputId": "75a6c43d-2c7a-42fd-9218-0964ad466a61"
      },
      "execution_count": null,
      "outputs": [
        {
          "output_type": "stream",
          "name": "stdout",
          "text": [
            "X: 10, Y: 20\n"
          ]
        }
      ]
    },
    {
      "cell_type": "markdown",
      "source": [
        "Tuple methods"
      ],
      "metadata": {
        "id": "t-R_QoCe4Aub"
      }
    },
    {
      "cell_type": "code",
      "source": [
        "print(f\"Count of 25: {person_info.count(25)}\")\n",
        "print(f\"Index of 'Engineer': {person_info.index('Engineer')}\")\n"
      ],
      "metadata": {
        "colab": {
          "base_uri": "https://localhost:8080/"
        },
        "id": "SqVs1gPE4E2t",
        "outputId": "74d2b198-9bae-485d-cf77-36d32415843f"
      },
      "execution_count": null,
      "outputs": [
        {
          "output_type": "stream",
          "name": "stdout",
          "text": [
            "Count of 25: 1\n",
            "Index of 'Engineer': 2\n"
          ]
        }
      ]
    },
    {
      "cell_type": "markdown",
      "source": [
        "Dictionary creation"
      ],
      "metadata": {
        "id": "yjBQ9CME4ZuX"
      }
    },
    {
      "cell_type": "code",
      "source": [
        "person = {\n",
        "\"name\": \"Alice Johnson\",\n",
        "\"age\": 23,\n",
        "\"profession\": \"Software Engineer\",\n",
        "\"salary\": 75000,\n",
        "\"skills\": [\"Python\", \"JavaScript\", \"SQL\"]\n",
        "}\n"
      ],
      "metadata": {
        "id": "znsvVPEv4pRP"
      },
      "execution_count": null,
      "outputs": []
    },
    {
      "cell_type": "markdown",
      "source": [
        "Accessing values"
      ],
      "metadata": {
        "id": "vK_atDYI4sz1"
      }
    },
    {
      "cell_type": "code",
      "source": [
        "print(f\"Name: {person['name']}\")\n",
        "print(f\"Age: {person.get('age', 'Unknown')}\")"
      ],
      "metadata": {
        "colab": {
          "base_uri": "https://localhost:8080/"
        },
        "id": "IUikHHen4yPw",
        "outputId": "b793e093-ddc0-4806-b48b-93a9221c3545"
      },
      "execution_count": null,
      "outputs": [
        {
          "output_type": "stream",
          "name": "stdout",
          "text": [
            "Name: Alice Johnson\n",
            "Age: 23\n"
          ]
        }
      ]
    },
    {
      "cell_type": "markdown",
      "source": [
        "Dicitionary methods"
      ],
      "metadata": {
        "id": "E1SiUCBA5BK6"
      }
    },
    {
      "cell_type": "code",
      "source": [
        "print(f\"keys: {list(person.keys())}\")\n",
        "print(f\"values:{list(person.values())}\")\n",
        "print(f\"items:{list(person.items())}\")"
      ],
      "metadata": {
        "colab": {
          "base_uri": "https://localhost:8080/"
        },
        "id": "FxwQqrVXsX8x",
        "outputId": "ad90994f-c53a-4783-d02c-6eccefc690f2"
      },
      "execution_count": null,
      "outputs": [
        {
          "output_type": "stream",
          "name": "stdout",
          "text": [
            "keys: ['name', 'age', 'profession', 'salary', 'skills']\n",
            "values:['Alice Johnson', 23, 'Software Engineer', 75000, ['Python', 'JavaScript', 'SQL']]\n",
            "items:[('name', 'Alice Johnson'), ('age', 23), ('profession', 'Software Engineer'), ('salary', 75000), ('skills', ['Python', 'JavaScript', 'SQL'])]\n"
          ]
        }
      ]
    },
    {
      "cell_type": "markdown",
      "source": [
        "Adding/updating\n"
      ],
      "metadata": {
        "id": "E-CEhqvBtWYb"
      }
    },
    {
      "cell_type": "code",
      "source": [
        "person[\"location\"] = \"new york\"\n",
        "person[\"salary\"] = 80000"
      ],
      "metadata": {
        "id": "UC310z1RthHF"
      },
      "execution_count": null,
      "outputs": []
    },
    {
      "cell_type": "markdown",
      "source": [
        "Practical use case:inventory management"
      ],
      "metadata": {
        "id": "Vhd-gg8ety1v"
      }
    },
    {
      "cell_type": "code",
      "source": [],
      "metadata": {
        "id": "CO1HMtFQuOAg"
      },
      "execution_count": null,
      "outputs": []
    }
  ]
}